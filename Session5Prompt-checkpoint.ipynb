{
 "cells": [
  {
   "cell_type": "markdown",
   "id": "206b6c03-f1d1-40cd-950c-3a03810f2392",
   "metadata": {},
   "source": [
    "#Session5Prompt"
   ]
  },
  {
   "cell_type": "code",
   "execution_count": 4,
   "id": "4ad0c85d-d364-4bb0-ae45-5ff836f010f7",
   "metadata": {},
   "outputs": [],
   "source": [
    "import math\n",
    "\n",
    "def sin_function(x):\n",
    "    \"\"\"\n",
    "    Returns the sine of x (x in radians).\n",
    "    \"\"\"\n",
    "    return math.sin(x)"
   ]
  },
  {
   "cell_type": "markdown",
   "id": "2d89225c-a50d-4536-9b30-6661dd5cd46b",
   "metadata": {},
   "source": [
    "This defines sin_function(x) and returns sin of x in radians"
   ]
  },
  {
   "cell_type": "code",
   "execution_count": 1,
   "id": "4a7e5594-ee4b-4412-b9ec-f8babba216e1",
   "metadata": {},
   "outputs": [],
   "source": [
    "def cos_function(x):\n",
    "    return math.cos(x)"
   ]
  },
  {
   "cell_type": "markdown",
   "id": "ea1ead6f-d031-45eb-9090-1f0cf9476d86",
   "metadata": {},
   "source": [
    "This defines cos_function(x) and returns cosine of x in radians"
   ]
  },
  {
   "cell_type": "code",
   "execution_count": 5,
   "id": "26575989-cba6-416c-b9f0-fd282f2f4334",
   "metadata": {},
   "outputs": [],
   "source": [
    "import numpy as np\n",
    "x_values = np.linspace(0, 2, 1000)\n",
    "sin_values = [sin_function(x) for x in x_values]\n",
    "cos_values = [cos_function(x) for x in x_values]"
   ]
  },
  {
   "cell_type": "code",
   "execution_count": 7,
   "id": "05a81b5d-eb4a-41ff-8795-ed160face65b",
   "metadata": {},
   "outputs": [
    {
     "name": "stdout",
     "output_type": "stream",
     "text": [
      "         x          sin(x)          cos(x)\n",
      "----------------------------------------\n",
      "  0.000000        0.000000        1.000000\n",
      "  0.002002        0.002002        0.999998\n",
      "  0.004004        0.004004        0.999992\n",
      "  0.006006        0.006006        0.999982\n",
      "  0.008008        0.008008        0.999968\n",
      "  0.010010        0.010010        0.999950\n",
      "  0.012012        0.012012        0.999928\n",
      "  0.014014        0.014014        0.999902\n",
      "  0.016016        0.016015        0.999872\n",
      "  0.018018        0.018017        0.999838\n"
     ]
    }
   ],
   "source": [
    "print(f\"{'x':>10} {'sin(x)':>15} {'cos(x)':>15}\")\n",
    "print(\"-\" * 40)\n",
    "\n",
    "for i in range(10):\n",
    "    print(f\"{x_values[i]:>10.6f} {sin_values[i]:>15.6f} {cos_values[i]:>15.6f}\")"
   ]
  },
  {
   "cell_type": "code",
   "execution_count": null,
   "id": "426893c9-1113-4c76-a133-9bf818c0cdaf",
   "metadata": {},
   "outputs": [],
   "source": []
  }
 ],
 "metadata": {
  "kernelspec": {
   "display_name": "Python 3 (ipykernel)",
   "language": "python",
   "name": "python3"
  },
  "language_info": {
   "codemirror_mode": {
    "name": "ipython",
    "version": 3
   },
   "file_extension": ".py",
   "mimetype": "text/x-python",
   "name": "python",
   "nbconvert_exporter": "python",
   "pygments_lexer": "ipython3",
   "version": "3.13.2"
  }
 },
 "nbformat": 4,
 "nbformat_minor": 5
}
